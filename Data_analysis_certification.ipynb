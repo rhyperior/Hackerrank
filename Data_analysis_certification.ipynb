{
 "cells": [
  {
   "cell_type": "code",
   "execution_count": 19,
   "id": "undefined-bridge",
   "metadata": {},
   "outputs": [],
   "source": [
    "import pandas as pd\n",
    "# import matplotlib.pyplot as plt\n",
    "import numpy as np\n",
    "# # import random"
   ]
  },
  {
   "cell_type": "code",
   "execution_count": 68,
   "id": "referenced-gazette",
   "metadata": {},
   "outputs": [],
   "source": [
    "# fig, plot_objects = plt.subplots(nrows =2 , ncols =2, figsize = (12, 4))"
   ]
  },
  {
   "cell_type": "code",
   "execution_count": 69,
   "id": "three-findings",
   "metadata": {},
   "outputs": [],
   "source": [
    "# plot_objects[0,0].plot(np.random.randn(50), c= 'red')\n",
    "# fig"
   ]
  },
  {
   "cell_type": "code",
   "execution_count": 20,
   "id": "abandoned-digit",
   "metadata": {},
   "outputs": [],
   "source": [
    "# url = 'https://en.wikipedia.org/wiki/The_Simpsons'\n",
    "# # \n",
    "# nba_tables = pd.read_html(url)\n",
    "# nba_tables[1].head(25)"
   ]
  },
  {
   "cell_type": "code",
   "execution_count": 79,
   "id": "internal-sperm",
   "metadata": {
    "scrolled": true
   },
   "outputs": [
    {
     "name": "stdout",
     "output_type": "stream",
     "text": [
      "[9 4 0 6]\n",
      "---------------------------------------------\n",
      "[[[3 3]\n",
      "  [6 6]\n",
      "  [6 1]]\n",
      "\n",
      " [[5 0]\n",
      "  [0 6]\n",
      "  [2 0]]\n",
      "\n",
      " [[3 1]\n",
      "  [1 2]\n",
      "  [4 9]]\n",
      "\n",
      " [[5 4]\n",
      "  [4 3]\n",
      "  [5 7]]]\n"
     ]
    }
   ],
   "source": [
    "a = np.random.randint(10, size= 4)\n",
    "b = np.random.randint(10, size = (4, 3, 2))\n",
    "print(a)\n",
    "print('---'*15)\n",
    "print(b)\n",
    "# print(np.hstack((a, b)))"
   ]
  },
  {
   "cell_type": "code",
   "execution_count": 83,
   "id": "documented-lender",
   "metadata": {},
   "outputs": [
    {
     "name": "stdout",
     "output_type": "stream",
     "text": [
      "[[1 2]\n",
      " [2 3]\n",
      " [3 4]]\n",
      "---------------------------------------------\n",
      "[[ 1  2  3  4]\n",
      " [ 2  3 13  5]\n",
      " [ 3  4 19  6]]\n",
      "------------------------------\n",
      "(3, 4)\n"
     ]
    }
   ],
   "source": [
    "d = np.array([[1,2],[2,3],[3,4]])\n",
    "e = np.array([[3,4],[13,5],[19,6]])\n",
    "f = np.hstack((d,e))\n",
    "print(d)\n",
    "print('---'*15)\n",
    "print(f)\n",
    "print('--'*15)\n",
    "print(f.shape)\n"
   ]
  }
 ],
 "metadata": {
  "kernelspec": {
   "display_name": "Python 3",
   "language": "python",
   "name": "python3"
  },
  "language_info": {
   "codemirror_mode": {
    "name": "ipython",
    "version": 3
   },
   "file_extension": ".py",
   "mimetype": "text/x-python",
   "name": "python",
   "nbconvert_exporter": "python",
   "pygments_lexer": "ipython3",
   "version": "3.8.0"
  }
 },
 "nbformat": 4,
 "nbformat_minor": 5
}
